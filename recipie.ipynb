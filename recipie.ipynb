{
 "cells": [
  {
   "cell_type": "markdown",
   "metadata": {},
   "source": [
    "# Importing libraries"
   ]
  },
  {
   "cell_type": "code",
   "execution_count": 2,
   "metadata": {},
   "outputs": [],
   "source": [
    "import pandas as pd\n",
    "import string\n",
    "from sklearn.feature_extraction.text import TfidfVectorizer\n",
    "from sklearn.metrics.pairwise import cosine_similarity\n",
    "\n"
   ]
  },
  {
   "cell_type": "markdown",
   "metadata": {},
   "source": [
    "# Load dataset"
   ]
  },
  {
   "cell_type": "code",
   "execution_count": 3,
   "metadata": {},
   "outputs": [],
   "source": [
    "\n",
    "data = pd.read_csv(\"../notebooks/output/subset_100k.csv\")"
   ]
  },
  {
   "cell_type": "markdown",
   "metadata": {},
   "source": [
    "# Data preprocessing"
   ]
  },
  {
   "cell_type": "code",
   "execution_count": 4,
   "metadata": {},
   "outputs": [],
   "source": [
    "data = data[['title', 'ingredients', 'directions', 'NER', 'link']]\n",
    "data.dropna(inplace=True)\n",
    "data['combined_text'] = data['ingredients'] + ' ' + data['directions']\n",
    "def preprocess_text(text):\n",
    "    text = text.lower()\n",
    "    text = text.translate(str.maketrans('', '', string.punctuation))\n",
    "    return text"
   ]
  },
  {
   "cell_type": "markdown",
   "metadata": {},
   "source": [
    "# TF-IDF Vectorization"
   ]
  },
  {
   "cell_type": "code",
   "execution_count": 5,
   "metadata": {},
   "outputs": [],
   "source": [
    "vectorizer = TfidfVectorizer(stop_words='english')\n",
    "data['processed_text'] = data['combined_text'].apply(preprocess_text)\n",
    "tfidf_matrix = vectorizer.fit_transform(data['processed_text'])"
   ]
  },
  {
   "cell_type": "markdown",
   "metadata": {},
   "source": [
    "# Recommendation using cosine similarity"
   ]
  },
  {
   "cell_type": "code",
   "execution_count": 6,
   "metadata": {},
   "outputs": [],
   "source": [
    "def recommend_recipe(user_preferences, num_recommendations=5):\n",
    "    user_combined_text = ' '.join(user_preferences['available_ingredients'])\n",
    "    if user_preferences['dietary_restrictions']:\n",
    "        user_combined_text += ' ' + ' '.join(user_preferences['dietary_restrictions'])\n",
    "    \n",
    "    if user_preferences['cuisine_preferences']:\n",
    "        user_combined_text += ' ' + ' '.join(user_preferences['cuisine_preferences'])\n",
    "    \n",
    "    if user_preferences['meal_type']:\n",
    "        user_combined_text += ' ' + user_preferences['meal_type']\n",
    "    \n",
    "    if user_preferences['time_to_cook']:\n",
    "        user_combined_text += f\" {user_preferences['time_to_cook']} minutes\"\n",
    "    \n",
    "    user_query_vector = vectorizer.transform([preprocess_text(user_combined_text)])\n",
    "    \n",
    "    cosine_sim = cosine_similarity(user_query_vector, tfidf_matrix)\n",
    "    \n",
    "    top_indices = cosine_sim[0].argsort()[-num_recommendations:][::-1]\n",
    "    recommendations = data.iloc[top_indices].copy()\n",
    "    \n",
    "    if 'vegetarian' in user_preferences['dietary_restrictions']:\n",
    "        non_veg_keywords = ['chicken', 'beef', 'pork', 'fish', 'sausage', 'bacon', 'prawn', \n",
    "                            'shrimp', 'duck', 'lamb', 'turkey', 'hamburger', 'meat']\n",
    "        recommendations = recommendations[~recommendations['ingredients']\n",
    "                                           .str.contains('|'.join(non_veg_keywords), case=False, na=False)]\n",
    "    \n",
    "    if 'gluten-free' in user_preferences['dietary_restrictions']:\n",
    "        gluten_keywords = ['wheat', 'barley', 'rye', 'bread', 'pasta']\n",
    "        recommendations = recommendations[~recommendations['ingredients']\n",
    "                                           .str.contains('|'.join(gluten_keywords), case=False, na=False)]\n",
    "    \n",
    "    if 'dairy-free' in user_preferences['dietary_restrictions']:\n",
    "        dairy_keywords = ['milk', 'cheese', 'butter', 'cream', 'yogurt']\n",
    "        recommendations = recommendations[~recommendations['ingredients']\n",
    "                                           .str.contains('|'.join(dairy_keywords), case=False, na=False)]\n",
    "    \n",
    "    if 'nut-free' in user_preferences['dietary_restrictions']:\n",
    "        nut_keywords = ['almonds', 'cashews', 'peanuts', 'walnuts', 'hazelnuts', \n",
    "                        'pecans', 'brazil nuts', 'macadamia', 'nuts']\n",
    "        recommendations = recommendations[~recommendations['ingredients']\n",
    "                                           .str.contains('|'.join(nut_keywords), case=False, na=False)]\n",
    "    \n",
    "    return recommendations[['title', 'ingredients', 'directions', 'link']]\n",
    "\n"
   ]
  },
  {
   "cell_type": "markdown",
   "metadata": {},
   "source": [
    "# Example Query 1"
   ]
  },
  {
   "cell_type": "code",
   "execution_count": 7,
   "metadata": {},
   "outputs": [
    {
     "name": "stdout",
     "output_type": "stream",
     "text": [
      "Recommended Recipes:\n",
      "\n",
      "Title: Chutney Glaze\n",
      "Ingredients: [\"2 Indian mangoes, peeled and chopped\", \"1 c. honey\", \"1/2 to 1 c. pineapple juice\", \"1 tsp. ground cloves\", \"1 tsp. nutmeg\", \"1/4 c. chopped red pepper\", \"1 mango, pureed\", \"1 c. brown sugar\", \"raisins\", \"1/2 tsp. cinnamon\", \"1/2 tsp. white pepper\"]\n",
      "Directions: [\"Combine all ingredients.\", \"Baste on ham last 45 minutes of baking, basting frequently.\"]\n",
      "Link: www.cookbooks.com/Recipe-Details.aspx?id=232636\n",
      "\n",
      "Title: Homemade Hot Chocolate\n",
      "Ingredients: [\"2 lb. chocolate drink mix\", \"8 qt. powdered milk\", \"2 lb. powdered sugar\", \"2 lb. 6 oz. jar Coffee-mate nondairy creamer\"]\n",
      "Directions: [\"Makes a big batch.\", \"Excellent for Christmas.\", \"Place lunch baggie full of homemade hot chocolate in green or red lunch bags for gifts.\"]\n",
      "Link: www.cookbooks.com/Recipe-Details.aspx?id=875388\n"
     ]
    }
   ],
   "source": [
    "user_preferences = {\n",
    "    \"dietary_restrictions\": [\"vegetarian\"],  \n",
    "    \"cuisine_preferences\": [\"Indian\"],       \n",
    "    \"available_ingredients\": [\"tomato\", \"onion\", \"garlic\"],  \n",
    "    \"time_to_cook\": 30,                      \n",
    "    \"difficulty_level\": \"Easy\",              \n",
    "    \"meal_type\": \"Lunch\"                     \n",
    "}\n",
    "\n",
    "recommendations = recommend_recipe(user_preferences)\n",
    "\n",
    "print(\"Recommended Recipes:\")\n",
    "for index, recipe in recommendations.iterrows():\n",
    "    print(f\"\\nTitle: {recipe['title']}\")\n",
    "    print(f\"Ingredients: {recipe['ingredients']}\")\n",
    "    print(f\"Directions: {recipe['directions']}\")\n",
    "    print(f\"Link: {recipe['link']}\")\n"
   ]
  },
  {
   "cell_type": "markdown",
   "metadata": {},
   "source": [
    "# Example query 2"
   ]
  },
  {
   "cell_type": "code",
   "execution_count": 8,
   "metadata": {},
   "outputs": [
    {
     "name": "stdout",
     "output_type": "stream",
     "text": [
      "Recommended Recipes:\n",
      "\n",
      "Title: Black Bean Salad\n",
      "Ingredients: [\"2 Tbsp. olive oil\", \"2 Tbsp. fresh lime juice\", \"2 Tbsp. sliced scallions\", \"2 tsp. sugar\", \"1/2 tsp. salt\", \"1/2 tsp. chili powder\", \"2 (15 oz.) cans black beans, drained\", \"2 c. cherry tomato, halved\", \"1 Hass avocado, peeled, pitted and diced\"]\n",
      "Directions: [\"Combine first 6 ingredients; set aside. Combine black beans, tomatoes and avocado. Stir dressing with bean mixture and serve. Serves 6.\"]\n",
      "Link: www.cookbooks.com/Recipe-Details.aspx?id=6362\n",
      "\n",
      "Title: Avocado Salad\n",
      "Ingredients: [\"1 avocado\", \"1 orange or pineapple\", \"mayonnaise with lemon juice\"]\n",
      "Directions: [\"Cut the avocado into halves or in slices.\", \"Alternate slices of orange or pineapple with avocado.\", \"Plain lemon juice may be squeezed on avocado.\", \"Serve with French dressing or with thin mayonnaise.\"]\n",
      "Link: www.cookbooks.com/Recipe-Details.aspx?id=403193\n",
      "\n",
      "Title: Avocado Magnificent\n",
      "Ingredients: [\"1 avocado, cubed\", \"1 tomato, diced\", \"1 lime\", \"Garlic salt\"]\n",
      "Directions: [\"Place cubed avocado and diced tomato in a bowl.\", \"Squeeze lime juice over mixture.\", \"Lightly salt with 2 dashes of garlic salt. Blend well.\", \"Serve with garlic pita chips.\", \"Serves 2.\"]\n",
      "Link: www.cookbooks.com/Recipe-Details.aspx?id=139079\n",
      "\n",
      "Title: Black Bean Salad\n",
      "Ingredients: [\"2 Tbsp. chopped fresh parsley\", \"2 Tbsp. fresh lime juice\", \"1/2 tsp. salt\", \"1/2 tsp. black pepper\", \"2 cans (15 oz.) black beans, rinsed and drained\", \"1 c. chopped fresh tomatoes\", \"1 diced avocado\", \"4 Tbsp. chopped green onion\", \"2 Tbsp. chopped seeded jalapeno pepper\"]\n",
      "Directions: [\"Combine parsley, lime juice, salt and black pepper. Stir well with a whisk. Add remaining ingredients, tossing well. Cover and chill 2 hours. Serve over salad greens. Serves 6 to 8.\"]\n",
      "Link: www.cookbooks.com/Recipe-Details.aspx?id=127034\n"
     ]
    }
   ],
   "source": [
    "user_preferences = {\n",
    "    \"dietary_restrictions\": [\"gluten-free\", \"dairy-free\"],\n",
    "    \"cuisine_preferences\": [\"Mexican\"],\n",
    "    \"available_ingredients\": [\"avocado\", \"lime\", \"black beans\", \"corn\"],\n",
    "    \"time_to_cook\": 20,\n",
    "    \"difficulty_level\": \"Medium\",\n",
    "    \"meal_type\": \"Snack\"\n",
    "}\n",
    "recommendations = recommend_recipe(user_preferences)\n",
    "\n",
    "print(\"Recommended Recipes:\")\n",
    "for index, recipe in recommendations.iterrows():\n",
    "    print(f\"\\nTitle: {recipe['title']}\")\n",
    "    print(f\"Ingredients: {recipe['ingredients']}\")\n",
    "    print(f\"Directions: {recipe['directions']}\")\n",
    "    print(f\"Link: {recipe['link']}\")"
   ]
  },
  {
   "cell_type": "markdown",
   "metadata": {},
   "source": [
    "# Example Query 3"
   ]
  },
  {
   "cell_type": "code",
   "execution_count": 9,
   "metadata": {},
   "outputs": [
    {
     "name": "stdout",
     "output_type": "stream",
     "text": [
      "Recommended Recipes:\n",
      "\n",
      "Title: Tuna Casserole\n",
      "Ingredients: [\"7 1/4 oz. box macaroni and cheese dinner\", \"1/2 c. onion, chopped\", \"1/4 c. green pepper, chopped\", \"2 Tbsp. margarine\", \"1 can cream of celery soup\", \"1 small can tuna\", \"1/4 c. pimento, chopped\", \"1 (3 oz.) can mushrooms\", \"3/4 c. milk\"]\n",
      "Directions: [\"Prepare dinner as directed, using 3/4 cup milk.\", \"Saute onion and green pepper in margarine. Add to prepared dinner with remaining ingredients.\", \"Pour in 1 1/2-quart casserole.\", \"Cover top with bread crumbs (optional).\", \"Bake at 350\\u00b0 for 30 minutes.\"]\n",
      "Link: www.cookbooks.com/Recipe-Details.aspx?id=581417\n",
      "\n",
      "Title: Chutney Glaze\n",
      "Ingredients: [\"2 Indian mangoes, peeled and chopped\", \"1 c. honey\", \"1/2 to 1 c. pineapple juice\", \"1 tsp. ground cloves\", \"1 tsp. nutmeg\", \"1/4 c. chopped red pepper\", \"1 mango, pureed\", \"1 c. brown sugar\", \"raisins\", \"1/2 tsp. cinnamon\", \"1/2 tsp. white pepper\"]\n",
      "Directions: [\"Combine all ingredients.\", \"Baste on ham last 45 minutes of baking, basting frequently.\"]\n",
      "Link: www.cookbooks.com/Recipe-Details.aspx?id=232636\n"
     ]
    }
   ],
   "source": [
    "user_preferences = {\n",
    "    \"dietary_restrictions\": [\"nut-free\", \"vegetarian\"],\n",
    "    \"cuisine_preferences\": [\"Indian\"],\n",
    "    \"available_ingredients\": [\"paneer\", \"tomatoes\", \"onions\", \"garlic\", \"ginger\"],\n",
    "    \"time_to_cook\": 40,\n",
    "    \"difficulty_level\": \"Medium\",\n",
    "    \"meal_type\": \"Dinner\"\n",
    "}\n",
    "recommendations = recommend_recipe(user_preferences)\n",
    "\n",
    "print(\"Recommended Recipes:\")\n",
    "for index, recipe in recommendations.iterrows():\n",
    "    print(f\"\\nTitle: {recipe['title']}\")\n",
    "    print(f\"Ingredients: {recipe['ingredients']}\")\n",
    "    print(f\"Directions: {recipe['directions']}\")\n",
    "    print(f\"Link: {recipe['link']}\")\n"
   ]
  },
  {
   "cell_type": "markdown",
   "metadata": {},
   "source": [
    "# Example Query 4"
   ]
  },
  {
   "cell_type": "code",
   "execution_count": 10,
   "metadata": {},
   "outputs": [
    {
     "name": "stdout",
     "output_type": "stream",
     "text": [
      "Recommended Recipes:\n",
      "\n",
      "Title: Fresh Italian Pasta Salad\n",
      "Ingredients: [\"1 lb. box bow tie pasta\", \"2 to 3 cloves crushed garlic\", \"2 Tbsp. minced fresh basil\", \"3 to 4 plum tomatoes, chopped\", \"1/3 c. olive oil\", \"1/2 c. Parmesan cheese\"]\n",
      "Directions: [\"Place garlic, basil, tomatoes, olive oil and Parmesan cheese together in large bowl.\", \"Cook pasta according to directions and drain well.\", \"While still hot, toss pasta with other ingredients. Cover and cool.\", \"Best when eaten warm.\"]\n",
      "Link: www.cookbooks.com/Recipe-Details.aspx?id=499478\n",
      "\n",
      "Title: 30-Minute Pasta Sauce\n",
      "Ingredients: [\"2 cloves garlic\", \"1/2 small onion\", \"3 Tbsp. olive oil\", \"1 large can chopped tomatoes\", \"1 Tbsp. basil\", \"1 tsp. sugar\", \"salt and pepper to taste\", \"1 tsp. Italian seasoning\"]\n",
      "Directions: [\"Chop garlic and onion very fine.\", \"Saute in olive oil until soft.\", \"Add tomatoes, basil and rest of seasonings.\", \"Bring to a light boil.\", \"Reduce heat and simmer 30 minutes, stirring occasionally.\"]\n",
      "Link: www.cookbooks.com/Recipe-Details.aspx?id=441233\n",
      "\n",
      "Title: Pasta With Tomatoes\n",
      "Ingredients: [\"2 large tomatoes, chopped\", \"2 Tbsp. fresh basil or 2 tsp. dried basil\", \"1 garlic clove, minced\", \"1/2 tsp. salt\", \"1/4 tsp. pepper\", \"4 oz. bow tie pasta or spaghetti, cooked and drained\", \"fresh basil and grated Parmesan cheese (optional)\"]\n",
      "Directions: [\"Combine tomatoes, basil, garlic, salt and pepper; set aside at room temperature for several hours.\", \"Serve over hot pasta.\", \"If desired, garnish with basil and sprinkle with Parmesan cheese.\"]\n",
      "Link: www.cookbooks.com/Recipe-Details.aspx?id=450587\n",
      "\n",
      "Title: Broccoli And Pasta\n",
      "Ingredients: [\"1 tsp. olive oil\", \"2 cloves garlic, minced fine\", \"1 head broccoli, chopped\", \"8 oz. cooked pasta\", \"1 Tbsp. olive oil\", \"4 oz. Parmesan cheese\", \"1/2 tsp. basil (optional)\"]\n",
      "Directions: [\"Note:\", \"Any vegetable oil can be used instead of olive oil.\"]\n",
      "Link: www.cookbooks.com/Recipe-Details.aspx?id=177380\n",
      "\n",
      "Title: Pesto Sauce\n",
      "Ingredients: [\"4 c. fresh basil\", \"1/2 c. olive oil\", \"2 cloves garlic, peeled and crushed\", \"1/4 tsp. parsley\", \"1/4 c. pignoli nuts\", \"1/2 c. grated cheese (Parmesan)\", \"salt and pepper to taste\"]\n",
      "Directions: [\"In blender, blend basil, garlic, olive oil and parsley.\", \"Mix in nuts, then the cheese.\", \"Serve over pasta.\"]\n",
      "Link: www.cookbooks.com/Recipe-Details.aspx?id=479700\n"
     ]
    }
   ],
   "source": [
    "user_preferences = {\n",
    "    \"dietary_restrictions\": [\"vegetarian\"],\n",
    "    \"cuisine_preferences\": [\"Italian\"],\n",
    "    \"available_ingredients\": [\"pasta\", \"tomatoes\", \"garlic\", \"olive oil\", \"basil\", \"parmesan\"],\n",
    "    \"time_to_cook\": 30,\n",
    "    \"difficulty_level\": \"Easy\",\n",
    "    \"meal_type\": \"Lunch\"\n",
    "}\n",
    "recommendations = recommend_recipe(user_preferences)\n",
    "\n",
    "print(\"Recommended Recipes:\")\n",
    "for index, recipe in recommendations.iterrows():\n",
    "    print(f\"\\nTitle: {recipe['title']}\")\n",
    "    print(f\"Ingredients: {recipe['ingredients']}\")\n",
    "    print(f\"Directions: {recipe['directions']}\")\n",
    "    print(f\"Link: {recipe['link']}\")\n"
   ]
  }
 ],
 "metadata": {
  "kernelspec": {
   "display_name": "renv",
   "language": "python",
   "name": "python3"
  },
  "language_info": {
   "codemirror_mode": {
    "name": "ipython",
    "version": 3
   },
   "file_extension": ".py",
   "mimetype": "text/x-python",
   "name": "python",
   "nbconvert_exporter": "python",
   "pygments_lexer": "ipython3",
   "version": "3.8.20"
  }
 },
 "nbformat": 4,
 "nbformat_minor": 2
}
